{
  "nbformat": 4,
  "nbformat_minor": 0,
  "metadata": {
    "colab": {
      "provenance": [],
      "authorship_tag": "ABX9TyN05LGssVHZcCche+G2sBtt",
      "include_colab_link": true
    },
    "kernelspec": {
      "name": "python3",
      "display_name": "Python 3"
    },
    "language_info": {
      "name": "python"
    }
  },
  "cells": [
    {
      "cell_type": "markdown",
      "metadata": {
        "id": "view-in-github",
        "colab_type": "text"
      },
      "source": [
        "<a href=\"https://colab.research.google.com/github/varshini03/signature-recognition-system/blob/main/ML_PROJECT_SIGNATURE_RECOGNITION.ipynb\" target=\"_parent\"><img src=\"https://colab.research.google.com/assets/colab-badge.svg\" alt=\"Open In Colab\"/></a>"
      ]
    },
    {
      "cell_type": "code",
      "execution_count": null,
      "metadata": {
        "id": "g_1gsTpUgeks"
      },
      "outputs": [],
      "source": [
        "import cv2\n",
        "import os\n",
        "import numpy as np\n",
        "import pandas as pd\n",
        "import random\n",
        "import matplotlib.pyplot as plt"
      ]
    },
    {
      "cell_type": "code",
      "source": [
        "from google.colab import drive\n",
        "drive.mount('/content/drive')"
      ],
      "metadata": {
        "colab": {
          "base_uri": "https://localhost:8080/"
        },
        "id": "RzJLvzfOgqst",
        "outputId": "6f250436-e610-49fe-d1cc-9ba27f9ef683"
      },
      "execution_count": null,
      "outputs": [
        {
          "output_type": "stream",
          "name": "stdout",
          "text": [
            "Drive already mounted at /content/drive; to attempt to forcibly remount, call drive.mount(\"/content/drive\", force_remount=True).\n"
          ]
        }
      ]
    },
    {
      "cell_type": "code",
      "source": [
        "current_dir = \"/content/drive/My Drive/dataset/\"\n",
        "author = '024'\n",
        "training_folder = os.path.join(current_dir, 'training/', author)\n",
        "test_folder = os.path.join(current_dir, 'test/', author)\n",
        "\n",
        "print(training_folder)\n",
        "print(test_folder)"
      ],
      "metadata": {
        "colab": {
          "base_uri": "https://localhost:8080/"
        },
        "id": "KbPb4MRXikWP",
        "outputId": "3df625b9-fbcf-4fe8-a7c4-d3fbd69394e1"
      },
      "execution_count": null,
      "outputs": [
        {
          "output_type": "stream",
          "name": "stdout",
          "text": [
            "/content/drive/My Drive/dataset/training/024\n",
            "/content/drive/My Drive/dataset/test/024\n"
          ]
        }
      ]
    },
    {
      "cell_type": "markdown",
      "source": [
        "NN MODEL"
      ],
      "metadata": {
        "id": "zUcPlQnTSue3"
      }
    },
    {
      "cell_type": "code",
      "source": [
        "def prepare(input):\n",
        "    # preprocessing the image input\n",
        "    clean = cv2.fastNlMeansDenoising(input)\n",
        "    ret, tresh = cv2.threshold(clean, 127, 1, cv2.THRESH_BINARY_INV)\n",
        "    img = crop(tresh)\n",
        "\n",
        "    # 40x10 image as a flatten array\n",
        "    flatten_img = cv2.resize(img, (40, 10), interpolation=cv2.INTER_AREA).flatten()\n",
        "\n",
        "    # resize to 400x100\n",
        "    resized = cv2.resize(img, (400, 100), interpolation=cv2.INTER_AREA)\n",
        "    columns = np.sum(resized, axis=0)  # sum of all columns\n",
        "    lines = np.sum(resized, axis=1)  # sum of all lines\n",
        "\n",
        "    h, w = img.shape\n",
        "    aspect = w / h\n",
        "\n",
        "    return [*flatten_img, *columns, *lines, aspect]\n",
        "\n",
        "def crop(img):\n",
        "    points = cv2.findNonZero(img)\n",
        "    x, y, w, h = cv2.boundingRect(points)\n",
        "    return img[y: y+h, x: x+w]"
      ],
      "metadata": {
        "id": "oDckGCxeh3Wa"
      },
      "execution_count": null,
      "outputs": []
    },
    {
      "cell_type": "code",
      "source": [
        "print('OpenCV version {} '.format(cv2.__version__))"
      ],
      "metadata": {
        "colab": {
          "base_uri": "https://localhost:8080/"
        },
        "id": "lbiUbv2fiO_C",
        "outputId": "bccac526-48f8-45f6-d2e0-4d911530dd75"
      },
      "execution_count": null,
      "outputs": [
        {
          "output_type": "stream",
          "name": "stdout",
          "text": [
            "OpenCV version 4.8.0 \n"
          ]
        }
      ]
    },
    {
      "cell_type": "code",
      "source": [
        "# Load an image\n",
        "filename = os.listdir(training_folder)[0]  # Load the first image in the folder\n",
        "img = cv2.imread(os.path.join(training_folder, filename), 0)"
      ],
      "metadata": {
        "id": "iayOYniWizv2"
      },
      "execution_count": null,
      "outputs": []
    },
    {
      "cell_type": "code",
      "source": [
        "print(img.shape)"
      ],
      "metadata": {
        "colab": {
          "base_uri": "https://localhost:8080/"
        },
        "id": "uj5cMiwGlZNM",
        "outputId": "d0800c39-b0b2-4ab2-f520-621a0b3ec6cd"
      },
      "execution_count": null,
      "outputs": [
        {
          "output_type": "stream",
          "name": "stdout",
          "text": [
            "(179, 901)\n"
          ]
        }
      ]
    },
    {
      "cell_type": "code",
      "source": [
        "# Preprocess the image\n",
        "preprocessed_img = prepare(img)\n",
        "\n",
        "# Visualize the preprocessed image\n",
        "plt.figure(figsize=(10, 5))\n",
        "plt.title('Preprocessed Image')\n",
        "plt.plot(preprocessed_img)\n",
        "plt.xlabel('Pixel')\n",
        "plt.ylabel('Intensity')\n",
        "plt.show()"
      ],
      "metadata": {
        "colab": {
          "base_uri": "https://localhost:8080/",
          "height": 487
        },
        "id": "KvsBkcCSjV3m",
        "outputId": "ee200543-6f0f-4f1b-fda0-81bbc2af30aa"
      },
      "execution_count": null,
      "outputs": [
        {
          "output_type": "display_data",
          "data": {
            "text/plain": [
              "<Figure size 1000x500 with 1 Axes>"
            ],
            "image/png": "[encoded data removed]"
          },
          "metadata": {}
        }
      ]
    },
    {
      "cell_type": "code",
      "source": [
        "print(len(preprocessed_img))"
      ],
      "metadata": {
        "colab": {
          "base_uri": "https://localhost:8080/"
        },
        "id": "amG9ziQWlLkf",
        "outputId": "8e411b29-6d22-4879-8506-48f0f6739a4c"
      },
      "execution_count": null,
      "outputs": [
        {
          "output_type": "stream",
          "name": "stdout",
          "text": [
            "901\n"
          ]
        }
      ]
    },
    {
      "cell_type": "code",
      "source": [
        "training_data = []\n",
        "for filename in os.listdir(training_folder):\n",
        "    img = cv2.imread(os.path.join(training_folder, filename), 0)\n",
        "    if img is not None:\n",
        "        data = np.array(prepare(img))\n",
        "        data = np.reshape(data, (901, 1))\n",
        "        result = [[0], [1]] if \"genuine\" in filename else [[1], [0]]\n",
        "        result = np.array(result)\n",
        "        result = np.reshape(result, (2, 1))\n",
        "        #print(result)\n",
        "        training_data.append([data, result])\n",
        "\n",
        "test_data = []\n",
        "for filename in os.listdir(test_folder):\n",
        "    img = cv2.imread(os.path.join(test_folder, filename), 0)\n",
        "    if img is not None:\n",
        "            data = np.array(prepare(img))\n",
        "            data = np.reshape(data, (901, 1))\n",
        "            result = 1 if \"genuine\" in filename else 0\n",
        "            test_data.append([data, result])"
      ],
      "metadata": {
        "id": "twMwg3ALlvGi"
      },
      "execution_count": null,
      "outputs": []
    },
    {
      "cell_type": "code",
      "source": [
        "current_dir = \"/content/drive/My Drive/dataset/\"\n",
        "author = '021'\n",
        "training_folder = os.path.join(current_dir, 'training/', author)\n",
        "test_folder = os.path.join(current_dir, 'test/', author)\n",
        "\n",
        "print(training_folder)\n",
        "print(test_folder)\n",
        "\n",
        "for filename in os.listdir(training_folder):\n",
        "    img = cv2.imread(os.path.join(training_folder, filename), 0)\n",
        "    if img is not None:\n",
        "        data = np.array(prepare(img))\n",
        "        data = np.reshape(data, (901, 1))\n",
        "        result = [[0], [1]] if \"genuine\" in filename else [[1], [0]]\n",
        "        result = np.array(result)\n",
        "        result = np.reshape(result, (2, 1))\n",
        "        #print(result)\n",
        "        training_data.append([data, result])\n",
        "\n",
        "\n",
        "for filename in os.listdir(test_folder):\n",
        "    img = cv2.imread(os.path.join(test_folder, filename), 0)\n",
        "    if img is not None:\n",
        "            data = np.array(prepare(img))\n",
        "            data = np.reshape(data, (901, 1))\n",
        "            result = 1 if \"genuine\" in filename else 0\n",
        "            test_data.append([data, result])"
      ],
      "metadata": {
        "colab": {
          "base_uri": "https://localhost:8080/"
        },
        "id": "ahKVCke4J-k7",
        "outputId": "b48b45fb-b11c-4550-bd67-7a7a763413f0"
      },
      "execution_count": null,
      "outputs": [
        {
          "output_type": "stream",
          "name": "stdout",
          "text": [
            "/content/drive/My Drive/dataset/training/021\n",
            "/content/drive/My Drive/dataset/test/021\n"
          ]
        }
      ]
    },
    {
      "cell_type": "code",
      "source": [
        "current_dir = \"/content/drive/My Drive/dataset/\"\n",
        "author = '029'\n",
        "test_folder = os.path.join(current_dir, 'test/', author)\n",
        "\n",
        "\n",
        "for filename in os.listdir(test_folder):\n",
        "    img = cv2.imread(os.path.join(test_folder, filename), 0)\n",
        "    if img is not None:\n",
        "            data = np.array(prepare(img))\n",
        "            data = np.reshape(data, (901, 1))\n",
        "            result = 1 if \"genuine\" in filename else 0\n",
        "            test_data.append([data, result])"
      ],
      "metadata": {
        "id": "QLDruc8JKUHg"
      },
      "execution_count": null,
      "outputs": []
    },
    {
      "cell_type": "code",
      "source": [
        "print(len(training_data))\n",
        "print(len(test_data))"
      ],
      "metadata": {
        "colab": {
          "base_uri": "https://localhost:8080/"
        },
        "id": "wkgo7TObmM1J",
        "outputId": "8f118c3d-117a-4173-e900-8139d848175a"
      },
      "execution_count": null,
      "outputs": [
        {
          "output_type": "stream",
          "name": "stdout",
          "text": [
            "45\n",
            "55\n"
          ]
        }
      ]
    },
    {
      "cell_type": "code",
      "source": [
        "print(training_data[0][1])"
      ],
      "metadata": {
        "colab": {
          "base_uri": "https://localhost:8080/"
        },
        "id": "-AImPxE0UpTz",
        "outputId": "ab26ac56-1048-4e6b-b95c-b60aa2caebe7"
      },
      "execution_count": null,
      "outputs": [
        {
          "output_type": "stream",
          "name": "stdout",
          "text": [
            "[[1]\n",
            " [0]]\n"
          ]
        }
      ]
    },
    {
      "cell_type": "code",
      "source": [
        "import numpy as np\n",
        "import random\n",
        "\n",
        "def relu(z):\n",
        "    return np.maximum(0, z)\n",
        "\n",
        "def relu_prime(z):\n",
        "    return (z > 0).astype(float)\n",
        "\n",
        "def softmax(z):\n",
        "    e_z = np.exp(z - np.max(z))\n",
        "    return e_z / e_z.sum(axis=0)\n",
        "\n",
        "def sigmoid(z):\n",
        "    return 1.0 / (1.0 + np.exp(-z))\n",
        "\n",
        "def sigmoid_prime(z):\n",
        "    sz = sigmoid(z)\n",
        "    return sz * (1 - sz)\n",
        "\n",
        "class NeuralNetwork():\n",
        "\n",
        "    def __init__(self, sizes, lmbda=0.01):\n",
        "        self.num_layers = len(sizes)\n",
        "        self.sizes = sizes\n",
        "        self.biases = [np.random.randn(y,1) for y in sizes[1:]]\n",
        "        self.weights = [np.random.randn(y,x) for x,y in zip(sizes[:-1],sizes[1:])]\n",
        "        self.lmbda = lmbda  # Regularization parameter\n",
        "\n",
        "    def feedforward(self, a):\n",
        "        for b, w in zip(self.biases[:-1], self.weights[:-1]):\n",
        "            a = sigmoid(np.dot(w, a) + b)\n",
        "        a = softmax(np.dot(self.weights[-1], a) + self.biases[-1])  # softmax for last layer\n",
        "        return a\n",
        "\n",
        "    def separate_batches(self, training_data, batch_size):\n",
        "        random.shuffle(training_data)\n",
        "        n = len(training_data)\n",
        "        return [training_data[i:i + batch_size] for i in range(0, n, batch_size)]\n",
        "\n",
        "    def update_batches(self, batches, alpha, n):\n",
        "        for batch in batches:\n",
        "            nabla_b = [np.zeros(b.shape) for b in self.biases]\n",
        "            nabla_w = [np.zeros(w.shape) for w in self.weights]\n",
        "\n",
        "            m = len(batch)\n",
        "\n",
        "            for x, y in batch:\n",
        "                delta_b, delta_w = self.backpropagation(x, y)\n",
        "                nabla_b = [nb + dnb for nb, dnb in zip(nabla_b, delta_b)]\n",
        "                nabla_w = [nw + dnw for nw, dnw in zip(nabla_w, delta_w)]\n",
        "\n",
        "            self.weights = [(1 - alpha * (self.lmbda / n)) * w - (alpha / m) * nw for w, nw in zip(self.weights, nabla_w)]  # L2 regularization\n",
        "            self.biases = [b - (alpha / m) * nb for b, nb in zip(self.biases, nabla_b)]\n",
        "\n",
        "    def backpropagation(self, x, y):\n",
        "        nabla_b = [np.zeros(b.shape) for b in self.biases]\n",
        "        nabla_w = [np.zeros(w.shape) for w in self.weights]\n",
        "\n",
        "        activation = x\n",
        "        activations = [x]\n",
        "        zs = []\n",
        "        for b, w in zip(self.biases, self.weights):\n",
        "            z = np.dot(w, activation)+b\n",
        "            zs.append(z)\n",
        "            activation = sigmoid(z)\n",
        "            activations.append(activation)\n",
        "\n",
        "        delta = self.cost_derivative(activations[-1], y) * \\\n",
        "            relu_prime(zs[-1])\n",
        "        nabla_b[-1] = delta\n",
        "        nabla_w[-1] = np.dot(delta, activations[-2].transpose())\n",
        "\n",
        "        for l in range(2, self.num_layers):\n",
        "            z = zs[-l]\n",
        "            sp = sigmoid_prime(z)\n",
        "            delta = np.dot(self.weights[-l+1].transpose(), delta) * sp\n",
        "            nabla_b[-l] = delta\n",
        "            nabla_w[-l] = np.dot(delta, activations[-l-1].transpose())\n",
        "        return (nabla_b, nabla_w)\n",
        "\n",
        "    def sgd(self, training_data, epochs, batch_size, alpha, test_data):\n",
        "        n_test = len(test_data)\n",
        "\n",
        "        for epoch in range(epochs):\n",
        "            batches = self.separate_batches(training_data, batch_size)\n",
        "            self.update_batches(batches, alpha, len(training_data))\n",
        "\n",
        "            print(\"Epoch {0}: {1} / {2}\".format(epoch, self.evaluate(test_data), n_test))\n",
        "\n",
        "        num_correct = self.evaluate(test_data)\n",
        "        accuracy = num_correct / n_test\n",
        "        print(\"Accuracy at end of training: {0}\".format(accuracy))\n",
        "\n",
        "    def evaluate(self, test_data):\n",
        "        test_results = [(np.argmax(self.feedforward(x)), y)\n",
        "                        for (x, y) in test_data]\n",
        "        return sum(int(x == y) for (x, y) in test_results)\n",
        "\n",
        "    def cost_derivative(self, output_activations, y):\n",
        "        return output_activations - y"
      ],
      "metadata": {
        "id": "R_4RxIJWX4wX"
      },
      "execution_count": null,
      "outputs": []
    },
    {
      "cell_type": "code",
      "source": [
        "net = NeuralNetwork([901, 500, 500, 2])\n",
        "net.sgd(training_data, 100, 50, 0.001, test_data)"
      ],
      "metadata": {
        "colab": {
          "base_uri": "https://localhost:8080/"
        },
        "id": "a-tkgJ4Rm6nT",
        "outputId": "3290fbd2-92db-409b-9a0f-a97672d49563"
      },
      "execution_count": null,
      "outputs": [
        {
          "output_type": "stream",
          "name": "stderr",
          "text": [
            "<ipython-input-240-297e6d5b5efe>:15: RuntimeWarning: overflow encountered in exp\n",
            "  return 1.0 / (1.0 + np.exp(-z))\n"
          ]
        },
        {
          "output_type": "stream",
          "name": "stdout",
          "text": [
            "Epoch 0: 31 / 55\n",
            "Epoch 1: 31 / 55\n",
            "Epoch 2: 31 / 55\n",
            "Epoch 3: 32 / 55\n",
            "Epoch 4: 33 / 55\n",
            "Epoch 5: 33 / 55\n",
            "Epoch 6: 33 / 55\n",
            "Epoch 7: 33 / 55\n",
            "Epoch 8: 33 / 55\n",
            "Epoch 9: 33 / 55\n",
            "Epoch 10: 33 / 55\n",
            "Epoch 11: 33 / 55\n",
            "Epoch 12: 33 / 55\n",
            "Epoch 13: 33 / 55\n",
            "Epoch 14: 32 / 55\n",
            "Epoch 15: 32 / 55\n",
            "Epoch 16: 32 / 55\n",
            "Epoch 17: 33 / 55\n",
            "Epoch 18: 33 / 55\n",
            "Epoch 19: 33 / 55\n",
            "Epoch 20: 33 / 55\n",
            "Epoch 21: 33 / 55\n",
            "Epoch 22: 33 / 55\n",
            "Epoch 23: 33 / 55\n",
            "Epoch 24: 33 / 55\n",
            "Epoch 25: 33 / 55\n",
            "Epoch 26: 34 / 55\n",
            "Epoch 27: 34 / 55\n",
            "Epoch 28: 34 / 55\n",
            "Epoch 29: 34 / 55\n",
            "Epoch 30: 34 / 55\n",
            "Epoch 31: 34 / 55\n",
            "Epoch 32: 34 / 55\n",
            "Epoch 33: 34 / 55\n",
            "Epoch 34: 37 / 55\n",
            "Epoch 35: 37 / 55\n",
            "Epoch 36: 37 / 55\n",
            "Epoch 37: 37 / 55\n",
            "Epoch 38: 37 / 55\n",
            "Epoch 39: 37 / 55\n",
            "Epoch 40: 37 / 55\n",
            "Epoch 41: 37 / 55\n",
            "Epoch 42: 37 / 55\n",
            "Epoch 43: 37 / 55\n",
            "Epoch 44: 37 / 55\n",
            "Epoch 45: 36 / 55\n",
            "Epoch 46: 36 / 55\n",
            "Epoch 47: 36 / 55\n",
            "Epoch 48: 36 / 55\n",
            "Epoch 49: 36 / 55\n",
            "Epoch 50: 36 / 55\n",
            "Epoch 51: 39 / 55\n",
            "Epoch 52: 39 / 55\n",
            "Epoch 53: 39 / 55\n",
            "Epoch 54: 39 / 55\n",
            "Epoch 55: 39 / 55\n",
            "Epoch 56: 39 / 55\n",
            "Epoch 57: 39 / 55\n",
            "Epoch 58: 42 / 55\n",
            "Epoch 59: 42 / 55\n",
            "Epoch 60: 42 / 55\n",
            "Epoch 61: 42 / 55\n",
            "Epoch 62: 42 / 55\n",
            "Epoch 63: 42 / 55\n",
            "Epoch 64: 42 / 55\n",
            "Epoch 65: 42 / 55\n",
            "Epoch 66: 42 / 55\n",
            "Epoch 67: 42 / 55\n",
            "Epoch 68: 42 / 55\n",
            "Epoch 69: 42 / 55\n",
            "Epoch 70: 42 / 55\n",
            "Epoch 71: 42 / 55\n",
            "Epoch 72: 42 / 55\n",
            "Epoch 73: 42 / 55\n",
            "Epoch 74: 43 / 55\n",
            "Epoch 75: 43 / 55\n",
            "Epoch 76: 43 / 55\n",
            "Epoch 77: 43 / 55\n",
            "Epoch 78: 43 / 55\n",
            "Epoch 79: 43 / 55\n",
            "Epoch 80: 43 / 55\n",
            "Epoch 81: 43 / 55\n",
            "Epoch 82: 43 / 55\n",
            "Epoch 83: 43 / 55\n",
            "Epoch 84: 43 / 55\n",
            "Epoch 85: 43 / 55\n",
            "Epoch 86: 43 / 55\n",
            "Epoch 87: 43 / 55\n",
            "Epoch 88: 43 / 55\n",
            "Epoch 89: 43 / 55\n",
            "Epoch 90: 43 / 55\n",
            "Epoch 91: 43 / 55\n",
            "Epoch 92: 43 / 55\n",
            "Epoch 93: 43 / 55\n",
            "Epoch 94: 43 / 55\n",
            "Epoch 95: 43 / 55\n",
            "Epoch 96: 43 / 55\n",
            "Epoch 97: 43 / 55\n",
            "Epoch 98: 43 / 55\n",
            "Epoch 99: 43 / 55\n",
            "Accuracy at end of training: 0.7818181818181819\n"
          ]
        }
      ]
    },
    {
      "cell_type": "code",
      "source": [
        "import seaborn as sns\n",
        "import matplotlib.pyplot as plt\n",
        "from sklearn.metrics import confusion_matrix\n",
        "\n",
        "# Assuming test_data is a list of tuples (x, y) where x is the input data and y is the corresponding label\n",
        "\n",
        "# Calculate predictions using the evaluate function\n",
        "test_results = [(np.argmax(net.feedforward(x)), y) for (x, y) in test_data]\n",
        "predictions, labels = zip(*test_results)\n",
        "\n",
        "# Compute confusion matrix\n",
        "conf_matrix = confusion_matrix(labels, predictions)\n",
        "\n",
        "# Plot confusion matrix as heatmap\n",
        "plt.figure(figsize=(8, 6))\n",
        "sns.heatmap(conf_matrix, annot=True, fmt=\"d\", cmap=\"Blues\", xticklabels=['Not Genuine', 'Genuine'], yticklabels=['Not Genuine', 'Genuine'])\n",
        "plt.title('Confusion Matrix')\n",
        "plt.xlabel('Predicted label')\n",
        "plt.ylabel('True label')\n",
        "plt.show()\n"
      ],
      "metadata": {
        "colab": {
          "base_uri": "https://localhost:8080/",
          "height": 599
        },
        "id": "NCmpibMZxpqH",
        "outputId": "7bc475d2-b633-4a7d-89ba-cd0a3a2b9bc7"
      },
      "execution_count": null,
      "outputs": [
        {
          "output_type": "stream",
          "name": "stderr",
          "text": [
            "<ipython-input-240-297e6d5b5efe>:15: RuntimeWarning: overflow encountered in exp\n",
            "  return 1.0 / (1.0 + np.exp(-z))\n"
          ]
        },
        {
          "output_type": "display_data",
          "data": {
            "text/plain": [
              "<Figure size 800x600 with 2 Axes>"
            ],
            "image/png": "[encoded data removed]"
          },
          "metadata": {}
        }
      ]
    },
    {
      "cell_type": "code",
      "source": [
        "# Compute ROC Curve\n",
        "fpr, tpr, _ = roc_curve(labels, predictions)\n",
        "roc_auc = auc(fpr, tpr)\n",
        "\n",
        "# Plot ROC Curve\n",
        "plt.figure()\n",
        "plt.plot(fpr, tpr, color='darkorange', lw=2, label='ROC curve (area = %0.2f)' % roc_auc)\n",
        "plt.plot([0, 1], [0, 1], color='navy', lw=2, linestyle='--')\n",
        "plt.xlim([0.0, 1.0])\n",
        "plt.ylim([0.0, 1.05])\n",
        "plt.xlabel('False Positive Rate')\n",
        "plt.ylabel('True Positive Rate')\n",
        "plt.title('Receiver Operating Characteristic (ROC)')\n",
        "plt.legend(loc=\"lower right\")\n",
        "plt.show()"
      ],
      "metadata": {
        "colab": {
          "base_uri": "https://localhost:8080/",
          "height": 472
        },
        "id": "gHrPY_7DuaZ8",
        "outputId": "b88d57e9-8b8f-4cdd-f39d-0ad1ab3bb62c"
      },
      "execution_count": null,
      "outputs": [
        {
          "output_type": "display_data",
          "data": {
            "text/plain": [
              "<Figure size 640x480 with 1 Axes>"
            ],
            "image/png": "[encoded data removed]"
          },
          "metadata": {}
        }
      ]
    },
    {
      "cell_type": "markdown",
      "source": [
        "SVM"
      ],
      "metadata": {
        "id": "hD_wyu2rzmN6"
      }
    },
    {
      "cell_type": "code",
      "source": [
        "# Flatten the input data and concatenate it with the labels\n",
        "flattened_data = np.concatenate([x.flatten() for x, _ in training_data] + [y.flatten() for _, y in training_data])\n",
        "\n",
        "# Print unique values\n",
        "unique_values = np.unique(flattened_data)\n",
        "print(\"Unique values in training data:\", unique_values)\n"
      ],
      "metadata": {
        "colab": {
          "base_uri": "https://localhost:8080/"
        },
        "id": "NXJGCmo6n3Jx",
        "outputId": "fbaee098-b861-4e30-f058-aa63069e77f8"
      },
      "execution_count": null,
      "outputs": [
        {
          "output_type": "stream",
          "name": "stdout",
          "text": [
            "Unique values in training data: [ 0.          1.          1.36941176  1.37866667  1.3802521   1.41241685\n",
            "  1.43049327  1.44671202  1.44759825  1.46846847  1.5         1.56124722\n",
            "  1.57337884  1.59953704  1.61341853  1.61564626  1.68321513  1.72542373\n",
            "  1.72805139  1.73368146  1.73604061  1.79051383  1.82037534  1.87850467\n",
            "  1.91290323  1.97938144  2.          2.0075188   2.06037736  2.15209125\n",
            "  2.16071429  2.16115702  2.19172932  2.33196721  2.40909091  2.6300578\n",
            "  2.65079365  2.74786325  2.79365079  3.          3.04608295  3.13173653\n",
            "  3.39574468  3.61386139  3.7611336   3.91810345  3.92703863  4.\n",
            "  4.3626943   4.79768786  5.          6.          7.          8.\n",
            "  9.         10.         11.         12.         13.         14.\n",
            " 15.         16.         17.         18.         19.         20.\n",
            " 21.         22.         23.         24.         25.         26.\n",
            " 27.         28.         29.         30.         31.         32.\n",
            " 33.         34.         35.         36.         37.         38.\n",
            " 39.         40.         41.         42.         43.         44.\n",
            " 45.         46.         47.         48.         50.         51.\n",
            " 52.         54.         55.         56.         64.         65.\n",
            " 66.         68.         71.         76.        ]\n"
          ]
        }
      ]
    },
    {
      "cell_type": "code",
      "source": [
        "def preprocess_image_svm(input):\n",
        "    # Resize the image to 40x10\n",
        "    resized_img = cv2.resize(input, (40, 10), interpolation=cv2.INTER_AREA)\n",
        "\n",
        "    # Flatten the resized image\n",
        "    flatten_img = resized_img.flatten()\n",
        "\n",
        "    # Resize to 400x100\n",
        "    resized_large = cv2.resize(input, (400, 100), interpolation=cv2.INTER_AREA)\n",
        "    columns = np.sum(resized_large, axis=0)  # Sum of all columns\n",
        "    lines = np.sum(resized_large, axis=1)  # Sum of all lines\n",
        "\n",
        "    h, w = input.shape\n",
        "    aspect = w / h\n",
        "\n",
        "    return [*flatten_img, *columns, *lines, aspect]\n"
      ],
      "metadata": {
        "id": "Rav__zs1znPA"
      },
      "execution_count": null,
      "outputs": []
    },
    {
      "cell_type": "code",
      "source": [
        "current_dir = \"/content/drive/My Drive/dataset/\"\n",
        "author = '024'\n",
        "training_folder = os.path.join(current_dir, 'training/', author)\n",
        "test_folder = os.path.join(current_dir, 'test/', author)"
      ],
      "metadata": {
        "id": "d6fMwtQnLJAR"
      },
      "execution_count": null,
      "outputs": []
    },
    {
      "cell_type": "code",
      "source": [
        "training_data = []\n",
        "for filename in os.listdir(training_folder):\n",
        "    img = cv2.imread(os.path.join(training_folder, filename), 0)\n",
        "    if img is not None:\n",
        "        data = np.array(preprocess_image_svm(img))\n",
        "        data = np.reshape(data, (901, 1))\n",
        "        result = 1 if \"genuine\" in filename else 0\n",
        "        result = np.array(result)\n",
        "        #result = np.reshape(result, (2, 1))\n",
        "        #print(result)\n",
        "        training_data.append((data, result))\n",
        "\n",
        "test_data = []\n",
        "for filename in os.listdir(test_folder):\n",
        "    img = cv2.imread(os.path.join(test_folder, filename), 0)\n",
        "    if img is not None:\n",
        "            data = np.array(preprocess_image_svm(img))\n",
        "            data = np.reshape(data, (901, 1))\n",
        "            result = 1 if \"genuine\" in filename else 0\n",
        "            test_data.append((data, result))"
      ],
      "metadata": {
        "id": "gJMp1blTzzrH"
      },
      "execution_count": null,
      "outputs": []
    },
    {
      "cell_type": "code",
      "source": [
        "current_dir = \"/content/drive/My Drive/dataset/\"\n",
        "author = '021'\n",
        "training_folder = os.path.join(current_dir, 'training/', author)\n",
        "test_folder = os.path.join(current_dir, 'test/', author)\n",
        "\n",
        "for filename in os.listdir(training_folder):\n",
        "    img = cv2.imread(os.path.join(training_folder, filename), 0)\n",
        "    if img is not None:\n",
        "        data = np.array(preprocess_image_svm(img))\n",
        "        data = np.reshape(data, (901, 1))\n",
        "        result = 1 if \"genuine\" in filename else 0\n",
        "        result = np.array(result)\n",
        "        #result = np.reshape(result, (2, 1))\n",
        "        #print(result)\n",
        "        training_data.append((data, result))\n",
        "\n",
        "\n",
        "for filename in os.listdir(test_folder):\n",
        "    img = cv2.imread(os.path.join(test_folder, filename), 0)\n",
        "    if img is not None:\n",
        "            data = np.array(preprocess_image_svm(img))\n",
        "            data = np.reshape(data, (901, 1))\n",
        "            result = 1 if \"genuine\" in filename else 0\n",
        "            test_data.append((data, result))"
      ],
      "metadata": {
        "id": "KsLt8a7hLLrH"
      },
      "execution_count": null,
      "outputs": []
    },
    {
      "cell_type": "code",
      "source": [
        "current_dir = \"/content/drive/My Drive/dataset/\"\n",
        "author = '029'\n",
        "\n",
        "test_folder = os.path.join(current_dir, 'test/', author)\n",
        "\n",
        "for filename in os.listdir(test_folder):\n",
        "    img = cv2.imread(os.path.join(test_folder, filename), 0)\n",
        "    if img is not None:\n",
        "            data = np.array(preprocess_image_svm(img))\n",
        "            data = np.reshape(data, (901, 1))\n",
        "            result = 1 if \"genuine\" in filename else 0\n",
        "            test_data.append((data, result))"
      ],
      "metadata": {
        "id": "vL19Hn9VLf_0"
      },
      "execution_count": null,
      "outputs": []
    },
    {
      "cell_type": "code",
      "source": [
        "print(len(training_data))\n",
        "print(training_data[1][0])"
      ],
      "metadata": {
        "colab": {
          "base_uri": "https://localhost:8080/"
        },
        "id": "Q2lGN7vP0HG5",
        "outputId": "8cdfc2b9-d6e7-4d37-d914-52f5494dbc46"
      },
      "execution_count": null,
      "outputs": [
        {
          "output_type": "stream",
          "name": "stdout",
          "text": [
            "21\n",
            "[[2.49000000e+02]\n",
            " [2.50000000e+02]\n",
            " [2.50000000e+02]\n",
            " [2.50000000e+02]\n",
            " [2.50000000e+02]\n",
            " [2.50000000e+02]\n",
            " [2.50000000e+02]\n",
            " [2.50000000e+02]\n",
            " [2.50000000e+02]\n",
            " [2.50000000e+02]\n",
            " [2.50000000e+02]\n",
            " [2.50000000e+02]\n",
            " [2.50000000e+02]\n",
            " [2.50000000e+02]\n",
            " [2.50000000e+02]\n",
            " [2.50000000e+02]\n",
            " [2.50000000e+02]\n",
            " [2.11000000e+02]\n",
            " [1.67000000e+02]\n",
            " [2.49000000e+02]\n",
            " [2.50000000e+02]\n",
            " [2.50000000e+02]\n",
            " [2.50000000e+02]\n",
            " [2.50000000e+02]\n",
            " [2.50000000e+02]\n",
            " [2.50000000e+02]\n",
            " [2.50000000e+02]\n",
            " [2.50000000e+02]\n",
            " [2.50000000e+02]\n",
            " [2.50000000e+02]\n",
            " [2.50000000e+02]\n",
            " [2.50000000e+02]\n",
            " [2.50000000e+02]\n",
            " [2.50000000e+02]\n",
            " [2.50000000e+02]\n",
            " [2.50000000e+02]\n",
            " [2.50000000e+02]\n",
            " [2.50000000e+02]\n",
            " [2.50000000e+02]\n",
            " [2.50000000e+02]\n",
            " [2.49000000e+02]\n",
            " [2.50000000e+02]\n",
            " [2.50000000e+02]\n",
            " [2.50000000e+02]\n",
            " [2.50000000e+02]\n",
            " [2.50000000e+02]\n",
            " [2.50000000e+02]\n",
            " [2.50000000e+02]\n",
            " [2.50000000e+02]\n",
            " [2.50000000e+02]\n",
            " [2.50000000e+02]\n",
            " [2.50000000e+02]\n",
            " [2.50000000e+02]\n",
            " [2.50000000e+02]\n",
            " [2.50000000e+02]\n",
            " [2.50000000e+02]\n",
            " [2.27000000e+02]\n",
            " [2.07000000e+02]\n",
            " [1.87000000e+02]\n",
            " [2.50000000e+02]\n",
            " [2.50000000e+02]\n",
            " [2.50000000e+02]\n",
            " [2.50000000e+02]\n",
            " [2.50000000e+02]\n",
            " [2.50000000e+02]\n",
            " [2.50000000e+02]\n",
            " [2.50000000e+02]\n",
            " [2.50000000e+02]\n",
            " [2.50000000e+02]\n",
            " [2.50000000e+02]\n",
            " [2.49000000e+02]\n",
            " [2.49000000e+02]\n",
            " [2.50000000e+02]\n",
            " [2.50000000e+02]\n",
            " [2.49000000e+02]\n",
            " [2.50000000e+02]\n",
            " [2.50000000e+02]\n",
            " [2.50000000e+02]\n",
            " [2.50000000e+02]\n",
            " [2.50000000e+02]\n",
            " [2.50000000e+02]\n",
            " [2.50000000e+02]\n",
            " [2.50000000e+02]\n",
            " [2.50000000e+02]\n",
            " [2.50000000e+02]\n",
            " [2.50000000e+02]\n",
            " [2.50000000e+02]\n",
            " [2.50000000e+02]\n",
            " [2.50000000e+02]\n",
            " [2.50000000e+02]\n",
            " [2.50000000e+02]\n",
            " [2.49000000e+02]\n",
            " [2.50000000e+02]\n",
            " [2.50000000e+02]\n",
            " [2.50000000e+02]\n",
            " [2.29000000e+02]\n",
            " [2.28000000e+02]\n",
            " [1.78000000e+02]\n",
            " [2.44000000e+02]\n",
            " [2.50000000e+02]\n",
            " [2.50000000e+02]\n",
            " [2.50000000e+02]\n",
            " [2.50000000e+02]\n",
            " [2.50000000e+02]\n",
            " [2.50000000e+02]\n",
            " [2.50000000e+02]\n",
            " [2.50000000e+02]\n",
            " [2.50000000e+02]\n",
            " [2.50000000e+02]\n",
            " [2.50000000e+02]\n",
            " [2.50000000e+02]\n",
            " [2.50000000e+02]\n",
            " [2.50000000e+02]\n",
            " [2.50000000e+02]\n",
            " [2.50000000e+02]\n",
            " [2.46000000e+02]\n",
            " [2.35000000e+02]\n",
            " [2.19000000e+02]\n",
            " [2.06000000e+02]\n",
            " [2.14000000e+02]\n",
            " [2.50000000e+02]\n",
            " [2.50000000e+02]\n",
            " [2.50000000e+02]\n",
            " [2.50000000e+02]\n",
            " [2.50000000e+02]\n",
            " [2.50000000e+02]\n",
            " [2.50000000e+02]\n",
            " [2.50000000e+02]\n",
            " [2.50000000e+02]\n",
            " [2.50000000e+02]\n",
            " [2.27000000e+02]\n",
            " [2.26000000e+02]\n",
            " [2.50000000e+02]\n",
            " [2.49000000e+02]\n",
            " [2.16000000e+02]\n",
            " [2.37000000e+02]\n",
            " [1.83000000e+02]\n",
            " [2.33000000e+02]\n",
            " [2.50000000e+02]\n",
            " [2.45000000e+02]\n",
            " [1.97000000e+02]\n",
            " [2.31000000e+02]\n",
            " [2.50000000e+02]\n",
            " [2.50000000e+02]\n",
            " [2.50000000e+02]\n",
            " [2.50000000e+02]\n",
            " [2.50000000e+02]\n",
            " [2.50000000e+02]\n",
            " [2.49000000e+02]\n",
            " [2.47000000e+02]\n",
            " [2.25000000e+02]\n",
            " [1.97000000e+02]\n",
            " [1.87000000e+02]\n",
            " [1.84000000e+02]\n",
            " [1.88000000e+02]\n",
            " [1.96000000e+02]\n",
            " [2.16000000e+02]\n",
            " [2.27000000e+02]\n",
            " [2.38000000e+02]\n",
            " [2.49000000e+02]\n",
            " [2.50000000e+02]\n",
            " [2.50000000e+02]\n",
            " [2.50000000e+02]\n",
            " [2.50000000e+02]\n",
            " [2.49000000e+02]\n",
            " [2.50000000e+02]\n",
            " [2.50000000e+02]\n",
            " [2.50000000e+02]\n",
            " [2.50000000e+02]\n",
            " [2.49000000e+02]\n",
            " [1.86000000e+02]\n",
            " [2.49000000e+02]\n",
            " [2.44000000e+02]\n",
            " [2.10000000e+02]\n",
            " [2.44000000e+02]\n",
            " [2.29000000e+02]\n",
            " [1.82000000e+02]\n",
            " [2.50000000e+02]\n",
            " [2.22000000e+02]\n",
            " [2.02000000e+02]\n",
            " [1.94000000e+02]\n",
            " [2.06000000e+02]\n",
            " [2.41000000e+02]\n",
            " [2.13000000e+02]\n",
            " [1.95000000e+02]\n",
            " [1.86000000e+02]\n",
            " [1.81000000e+02]\n",
            " [1.85000000e+02]\n",
            " [1.93000000e+02]\n",
            " [2.02000000e+02]\n",
            " [2.29000000e+02]\n",
            " [2.48000000e+02]\n",
            " [2.50000000e+02]\n",
            " [2.50000000e+02]\n",
            " [2.50000000e+02]\n",
            " [2.50000000e+02]\n",
            " [2.50000000e+02]\n",
            " [2.49000000e+02]\n",
            " [2.50000000e+02]\n",
            " [2.50000000e+02]\n",
            " [2.49000000e+02]\n",
            " [2.50000000e+02]\n",
            " [2.50000000e+02]\n",
            " [2.50000000e+02]\n",
            " [2.50000000e+02]\n",
            " [2.50000000e+02]\n",
            " [2.50000000e+02]\n",
            " [2.50000000e+02]\n",
            " [2.50000000e+02]\n",
            " [2.11000000e+02]\n",
            " [2.03000000e+02]\n",
            " [2.37000000e+02]\n",
            " [2.15000000e+02]\n",
            " [2.49000000e+02]\n",
            " [2.50000000e+02]\n",
            " [1.63000000e+02]\n",
            " [2.26000000e+02]\n",
            " [1.63000000e+02]\n",
            " [1.87000000e+02]\n",
            " [2.12000000e+02]\n",
            " [1.73000000e+02]\n",
            " [1.73000000e+02]\n",
            " [2.00000000e+02]\n",
            " [2.28000000e+02]\n",
            " [2.48000000e+02]\n",
            " [2.49000000e+02]\n",
            " [2.50000000e+02]\n",
            " [2.50000000e+02]\n",
            " [2.50000000e+02]\n",
            " [2.50000000e+02]\n",
            " [2.50000000e+02]\n",
            " [2.50000000e+02]\n",
            " [2.50000000e+02]\n",
            " [2.50000000e+02]\n",
            " [2.50000000e+02]\n",
            " [2.50000000e+02]\n",
            " [2.50000000e+02]\n",
            " [2.50000000e+02]\n",
            " [2.50000000e+02]\n",
            " [2.50000000e+02]\n",
            " [2.50000000e+02]\n",
            " [2.50000000e+02]\n",
            " [2.50000000e+02]\n",
            " [2.50000000e+02]\n",
            " [2.50000000e+02]\n",
            " [2.50000000e+02]\n",
            " [2.50000000e+02]\n",
            " [2.50000000e+02]\n",
            " [2.49000000e+02]\n",
            " [1.71000000e+02]\n",
            " [2.29000000e+02]\n",
            " [2.17000000e+02]\n",
            " [2.18000000e+02]\n",
            " [2.11000000e+02]\n",
            " [2.00000000e+02]\n",
            " [1.09000000e+02]\n",
            " [1.91000000e+02]\n",
            " [2.37000000e+02]\n",
            " [2.50000000e+02]\n",
            " [2.50000000e+02]\n",
            " [2.50000000e+02]\n",
            " [2.50000000e+02]\n",
            " [2.49000000e+02]\n",
            " [2.50000000e+02]\n",
            " [2.49000000e+02]\n",
            " [2.49000000e+02]\n",
            " [2.50000000e+02]\n",
            " [2.50000000e+02]\n",
            " [2.50000000e+02]\n",
            " [2.50000000e+02]\n",
            " [2.50000000e+02]\n",
            " [2.50000000e+02]\n",
            " [2.50000000e+02]\n",
            " [2.50000000e+02]\n",
            " [2.50000000e+02]\n",
            " [2.50000000e+02]\n",
            " [2.50000000e+02]\n",
            " [2.50000000e+02]\n",
            " [2.50000000e+02]\n",
            " [2.50000000e+02]\n",
            " [2.50000000e+02]\n",
            " [2.50000000e+02]\n",
            " [2.50000000e+02]\n",
            " [2.50000000e+02]\n",
            " [2.50000000e+02]\n",
            " [2.50000000e+02]\n",
            " [2.47000000e+02]\n",
            " [2.21000000e+02]\n",
            " [2.05000000e+02]\n",
            " [1.17000000e+02]\n",
            " [2.01000000e+02]\n",
            " [2.21000000e+02]\n",
            " [2.42000000e+02]\n",
            " [2.50000000e+02]\n",
            " [2.44000000e+02]\n",
            " [2.39000000e+02]\n",
            " [2.50000000e+02]\n",
            " [2.50000000e+02]\n",
            " [2.50000000e+02]\n",
            " [2.50000000e+02]\n",
            " [2.50000000e+02]\n",
            " [2.50000000e+02]\n",
            " [2.50000000e+02]\n",
            " [2.49000000e+02]\n",
            " [2.50000000e+02]\n",
            " [2.50000000e+02]\n",
            " [2.50000000e+02]\n",
            " [2.50000000e+02]\n",
            " [2.50000000e+02]\n",
            " [2.50000000e+02]\n",
            " [2.50000000e+02]\n",
            " [2.50000000e+02]\n",
            " [2.50000000e+02]\n",
            " [2.50000000e+02]\n",
            " [2.50000000e+02]\n",
            " [2.50000000e+02]\n",
            " [2.50000000e+02]\n",
            " [2.50000000e+02]\n",
            " [2.50000000e+02]\n",
            " [2.50000000e+02]\n",
            " [2.50000000e+02]\n",
            " [2.50000000e+02]\n",
            " [2.44000000e+02]\n",
            " [2.17000000e+02]\n",
            " [2.12000000e+02]\n",
            " [2.17000000e+02]\n",
            " [2.21000000e+02]\n",
            " [2.39000000e+02]\n",
            " [2.49000000e+02]\n",
            " [2.43000000e+02]\n",
            " [2.50000000e+02]\n",
            " [2.50000000e+02]\n",
            " [2.50000000e+02]\n",
            " [2.50000000e+02]\n",
            " [2.50000000e+02]\n",
            " [2.50000000e+02]\n",
            " [2.50000000e+02]\n",
            " [2.50000000e+02]\n",
            " [2.50000000e+02]\n",
            " [2.50000000e+02]\n",
            " [2.50000000e+02]\n",
            " [2.50000000e+02]\n",
            " [2.50000000e+02]\n",
            " [2.50000000e+02]\n",
            " [2.50000000e+02]\n",
            " [2.50000000e+02]\n",
            " [2.50000000e+02]\n",
            " [2.49000000e+02]\n",
            " [2.49000000e+02]\n",
            " [2.50000000e+02]\n",
            " [2.50000000e+02]\n",
            " [2.50000000e+02]\n",
            " [2.50000000e+02]\n",
            " [2.50000000e+02]\n",
            " [2.50000000e+02]\n",
            " [2.50000000e+02]\n",
            " [2.50000000e+02]\n",
            " [2.50000000e+02]\n",
            " [2.50000000e+02]\n",
            " [2.49000000e+02]\n",
            " [2.06000000e+02]\n",
            " [2.09000000e+02]\n",
            " [2.19000000e+02]\n",
            " [2.46000000e+02]\n",
            " [2.50000000e+02]\n",
            " [2.50000000e+02]\n",
            " [2.50000000e+02]\n",
            " [2.50000000e+02]\n",
            " [2.50000000e+02]\n",
            " [2.50000000e+02]\n",
            " [2.50000000e+02]\n",
            " [2.50000000e+02]\n",
            " [2.50000000e+02]\n",
            " [2.50000000e+02]\n",
            " [2.50000000e+02]\n",
            " [2.50000000e+02]\n",
            " [2.50000000e+02]\n",
            " [2.50000000e+02]\n",
            " [2.50000000e+02]\n",
            " [2.50000000e+02]\n",
            " [2.50000000e+02]\n",
            " [2.50000000e+02]\n",
            " [2.50000000e+02]\n",
            " [2.50000000e+02]\n",
            " [2.50000000e+02]\n",
            " [2.50000000e+02]\n",
            " [2.50000000e+02]\n",
            " [2.50000000e+02]\n",
            " [2.50000000e+02]\n",
            " [2.50000000e+02]\n",
            " [2.50000000e+02]\n",
            " [2.50000000e+02]\n",
            " [2.50000000e+02]\n",
            " [2.50000000e+02]\n",
            " [2.50000000e+02]\n",
            " [2.50000000e+02]\n",
            " [2.50000000e+02]\n",
            " [2.50000000e+02]\n",
            " [2.50000000e+02]\n",
            " [2.50000000e+02]\n",
            " [2.49620000e+04]\n",
            " [2.48400000e+04]\n",
            " [2.46120000e+04]\n",
            " [2.44300000e+04]\n",
            " [2.44100000e+04]\n",
            " [2.43830000e+04]\n",
            " [2.43510000e+04]\n",
            " [2.43610000e+04]\n",
            " [2.44310000e+04]\n",
            " [2.45040000e+04]\n",
            " [2.45800000e+04]\n",
            " [2.45730000e+04]\n",
            " [2.45700000e+04]\n",
            " [2.45320000e+04]\n",
            " [2.45330000e+04]\n",
            " [2.45330000e+04]\n",
            " [2.45680000e+04]\n",
            " [2.45950000e+04]\n",
            " [2.45990000e+04]\n",
            " [2.46130000e+04]\n",
            " [2.46300000e+04]\n",
            " [2.46240000e+04]\n",
            " [2.46180000e+04]\n",
            " [2.46370000e+04]\n",
            " [2.46410000e+04]\n",
            " [2.46280000e+04]\n",
            " [2.46230000e+04]\n",
            " [2.46070000e+04]\n",
            " [2.45760000e+04]\n",
            " [2.45930000e+04]\n",
            " [2.45940000e+04]\n",
            " [2.45970000e+04]\n",
            " [2.46180000e+04]\n",
            " [2.46350000e+04]\n",
            " [2.46400000e+04]\n",
            " [2.46170000e+04]\n",
            " [2.46190000e+04]\n",
            " [2.46360000e+04]\n",
            " [2.46200000e+04]\n",
            " [2.46220000e+04]\n",
            " [2.46120000e+04]\n",
            " [2.46320000e+04]\n",
            " [2.46130000e+04]\n",
            " [2.45720000e+04]\n",
            " [2.45730000e+04]\n",
            " [2.45720000e+04]\n",
            " [2.45620000e+04]\n",
            " [2.45930000e+04]\n",
            " [2.45990000e+04]\n",
            " [2.46010000e+04]\n",
            " [2.46030000e+04]\n",
            " [2.46280000e+04]\n",
            " [2.46470000e+04]\n",
            " [2.46490000e+04]\n",
            " [2.46390000e+04]\n",
            " [2.46530000e+04]\n",
            " [2.46900000e+04]\n",
            " [2.46590000e+04]\n",
            " [2.46630000e+04]\n",
            " [2.46680000e+04]\n",
            " [2.46510000e+04]\n",
            " [2.46640000e+04]\n",
            " [2.46480000e+04]\n",
            " [2.46520000e+04]\n",
            " [2.46760000e+04]\n",
            " [2.46560000e+04]\n",
            " [2.46800000e+04]\n",
            " [2.47270000e+04]\n",
            " [2.46720000e+04]\n",
            " [2.46280000e+04]\n",
            " [2.45500000e+04]\n",
            " [2.45650000e+04]\n",
            " [2.45880000e+04]\n",
            " [2.45980000e+04]\n",
            " [2.45760000e+04]\n",
            " [2.45710000e+04]\n",
            " [2.46180000e+04]\n",
            " [2.46070000e+04]\n",
            " [2.46460000e+04]\n",
            " [2.46090000e+04]\n",
            " [2.46160000e+04]\n",
            " [2.46130000e+04]\n",
            " [2.46100000e+04]\n",
            " [2.46210000e+04]\n",
            " [2.46360000e+04]\n",
            " [2.46150000e+04]\n",
            " [2.46140000e+04]\n",
            " [2.45700000e+04]\n",
            " [2.43940000e+04]\n",
            " [2.39240000e+04]\n",
            " [2.31450000e+04]\n",
            " [2.24880000e+04]\n",
            " [2.22260000e+04]\n",
            " [2.20880000e+04]\n",
            " [2.21340000e+04]\n",
            " [2.23200000e+04]\n",
            " [2.25240000e+04]\n",
            " [2.25300000e+04]\n",
            " [2.22850000e+04]\n",
            " [2.22900000e+04]\n",
            " [2.25300000e+04]\n",
            " [2.26810000e+04]\n",
            " [2.27130000e+04]\n",
            " [2.27780000e+04]\n",
            " [2.29030000e+04]\n",
            " [2.29680000e+04]\n",
            " [2.30470000e+04]\n",
            " [2.32090000e+04]\n",
            " [2.33230000e+04]\n",
            " [2.34050000e+04]\n",
            " [2.35480000e+04]\n",
            " [2.37430000e+04]\n",
            " [2.39390000e+04]\n",
            " [2.39840000e+04]\n",
            " [2.39690000e+04]\n",
            " [2.40030000e+04]\n",
            " [2.40650000e+04]\n",
            " [2.41540000e+04]\n",
            " [2.42650000e+04]\n",
            " [2.42370000e+04]\n",
            " [2.41890000e+04]\n",
            " [2.42020000e+04]\n",
            " [2.42120000e+04]\n",
            " [2.41450000e+04]\n",
            " [2.41590000e+04]\n",
            " [2.41850000e+04]\n",
            " [2.42000000e+04]\n",
            " [2.41770000e+04]\n",
            " [2.41350000e+04]\n",
            " [2.41600000e+04]\n",
            " [2.41760000e+04]\n",
            " [2.41900000e+04]\n",
            " [2.41610000e+04]\n",
            " [2.41480000e+04]\n",
            " [2.41910000e+04]\n",
            " [2.42050000e+04]\n",
            " [2.41770000e+04]\n",
            " [2.42030000e+04]\n",
            " [2.42090000e+04]\n",
            " [2.41720000e+04]\n",
            " [2.42200000e+04]\n",
            " [2.42230000e+04]\n",
            " [2.42160000e+04]\n",
            " [2.42390000e+04]\n",
            " [2.42080000e+04]\n",
            " [2.42000000e+04]\n",
            " [2.41630000e+04]\n",
            " [2.39760000e+04]\n",
            " [2.36190000e+04]\n",
            " [2.31640000e+04]\n",
            " [2.28030000e+04]\n",
            " [2.26540000e+04]\n",
            " [2.26000000e+04]\n",
            " [2.24760000e+04]\n",
            " [2.20990000e+04]\n",
            " [2.17770000e+04]\n",
            " [2.16740000e+04]\n",
            " [2.15270000e+04]\n",
            " [2.14780000e+04]\n",
            " [2.15800000e+04]\n",
            " [2.17520000e+04]\n",
            " [2.18410000e+04]\n",
            " [2.18700000e+04]\n",
            " [2.20390000e+04]\n",
            " [2.24080000e+04]\n",
            " [2.26560000e+04]\n",
            " [2.27760000e+04]\n",
            " [2.28120000e+04]\n",
            " [2.27650000e+04]\n",
            " [2.27240000e+04]\n",
            " [2.26600000e+04]\n",
            " [2.25520000e+04]\n",
            " [2.24220000e+04]\n",
            " [2.23770000e+04]\n",
            " [2.24150000e+04]\n",
            " [2.23620000e+04]\n",
            " [2.23860000e+04]\n",
            " [2.22020000e+04]\n",
            " [2.19260000e+04]\n",
            " [2.16850000e+04]\n",
            " [2.16050000e+04]\n",
            " [2.16280000e+04]\n",
            " [2.17690000e+04]\n",
            " [2.18540000e+04]\n",
            " [2.19440000e+04]\n",
            " [2.24280000e+04]\n",
            " [2.29690000e+04]\n",
            " [2.34770000e+04]\n",
            " [2.38580000e+04]\n",
            " [2.40660000e+04]\n",
            " [2.40620000e+04]\n",
            " [2.39980000e+04]\n",
            " [2.40740000e+04]\n",
            " [2.40990000e+04]\n",
            " [2.41380000e+04]\n",
            " [2.41430000e+04]\n",
            " [2.40880000e+04]\n",
            " [2.40730000e+04]\n",
            " [2.39870000e+04]\n",
            " [2.40900000e+04]\n",
            " [2.40840000e+04]\n",
            " [2.40620000e+04]\n",
            " [2.40550000e+04]\n",
            " [2.40590000e+04]\n",
            " [2.39160000e+04]\n",
            " [2.34400000e+04]\n",
            " [2.28060000e+04]\n",
            " [2.21600000e+04]\n",
            " [2.15600000e+04]\n",
            " [2.12420000e+04]\n",
            " [2.15740000e+04]\n",
            " [2.21300000e+04]\n",
            " [2.29170000e+04]\n",
            " [2.36490000e+04]\n",
            " [2.41440000e+04]\n",
            " [2.42730000e+04]\n",
            " [2.42920000e+04]\n",
            " [2.43160000e+04]\n",
            " [2.43350000e+04]\n",
            " [2.43260000e+04]\n",
            " [2.43890000e+04]\n",
            " [2.44250000e+04]\n",
            " [2.43900000e+04]\n",
            " [2.44120000e+04]\n",
            " [2.44520000e+04]\n",
            " [2.43950000e+04]\n",
            " [2.43870000e+04]\n",
            " [2.44020000e+04]\n",
            " [2.43790000e+04]\n",
            " [2.43450000e+04]\n",
            " [2.43400000e+04]\n",
            " [2.43640000e+04]\n",
            " [2.43800000e+04]\n",
            " [2.44080000e+04]\n",
            " [2.44080000e+04]\n",
            " [2.44150000e+04]\n",
            " [2.44430000e+04]\n",
            " [2.44250000e+04]\n",
            " [2.43820000e+04]\n",
            " [2.43850000e+04]\n",
            " [2.44040000e+04]\n",
            " [2.44020000e+04]\n",
            " [2.44010000e+04]\n",
            " [2.43890000e+04]\n",
            " [2.43940000e+04]\n",
            " [2.43960000e+04]\n",
            " [2.44330000e+04]\n",
            " [2.44440000e+04]\n",
            " [2.44300000e+04]\n",
            " [2.44000000e+04]\n",
            " [2.43970000e+04]\n",
            " [2.43900000e+04]\n",
            " [2.43700000e+04]\n",
            " [2.43720000e+04]\n",
            " [2.43480000e+04]\n",
            " [2.43080000e+04]\n",
            " [2.43460000e+04]\n",
            " [2.43130000e+04]\n",
            " [2.42710000e+04]\n",
            " [2.43180000e+04]\n",
            " [2.43440000e+04]\n",
            " [2.43180000e+04]\n",
            " [2.42900000e+04]\n",
            " [2.42720000e+04]\n",
            " [2.42750000e+04]\n",
            " [2.42560000e+04]\n",
            " [2.42350000e+04]\n",
            " [2.42980000e+04]\n",
            " [2.42900000e+04]\n",
            " [2.43350000e+04]\n",
            " [2.43450000e+04]\n",
            " [2.43610000e+04]\n",
            " [2.43630000e+04]\n",
            " [2.43270000e+04]\n",
            " [2.43110000e+04]\n",
            " [2.43280000e+04]\n",
            " [2.43240000e+04]\n",
            " [2.42810000e+04]\n",
            " [2.43460000e+04]\n",
            " [2.43620000e+04]\n",
            " [2.43620000e+04]\n",
            " [2.43950000e+04]\n",
            " [2.43360000e+04]\n",
            " [2.43990000e+04]\n",
            " [2.44020000e+04]\n",
            " [2.44260000e+04]\n",
            " [2.44220000e+04]\n",
            " [2.44490000e+04]\n",
            " [2.44410000e+04]\n",
            " [2.44700000e+04]\n",
            " [2.44840000e+04]\n",
            " [2.44880000e+04]\n",
            " [2.44770000e+04]\n",
            " [2.44470000e+04]\n",
            " [2.44470000e+04]\n",
            " [2.44570000e+04]\n",
            " [2.44940000e+04]\n",
            " [2.45250000e+04]\n",
            " [2.44980000e+04]\n",
            " [2.45020000e+04]\n",
            " [2.45500000e+04]\n",
            " [2.45370000e+04]\n",
            " [2.45420000e+04]\n",
            " [2.45360000e+04]\n",
            " [2.45130000e+04]\n",
            " [2.45080000e+04]\n",
            " [2.44970000e+04]\n",
            " [2.45050000e+04]\n",
            " [2.45370000e+04]\n",
            " [2.45030000e+04]\n",
            " [2.44920000e+04]\n",
            " [2.44840000e+04]\n",
            " [2.44690000e+04]\n",
            " [2.44650000e+04]\n",
            " [2.44510000e+04]\n",
            " [2.43790000e+04]\n",
            " [2.43960000e+04]\n",
            " [2.44140000e+04]\n",
            " [2.43960000e+04]\n",
            " [2.43930000e+04]\n",
            " [2.43780000e+04]\n",
            " [2.43540000e+04]\n",
            " [2.43100000e+04]\n",
            " [2.43040000e+04]\n",
            " [2.44310000e+04]\n",
            " [2.44430000e+04]\n",
            " [2.44040000e+04]\n",
            " [2.43230000e+04]\n",
            " [2.43300000e+04]\n",
            " [2.43490000e+04]\n",
            " [2.43400000e+04]\n",
            " [2.43280000e+04]\n",
            " [2.43230000e+04]\n",
            " [2.43530000e+04]\n",
            " [2.43420000e+04]\n",
            " [2.43320000e+04]\n",
            " [2.43470000e+04]\n",
            " [2.43070000e+04]\n",
            " [2.43000000e+04]\n",
            " [2.43070000e+04]\n",
            " [2.43280000e+04]\n",
            " [2.43250000e+04]\n",
            " [2.43590000e+04]\n",
            " [2.44000000e+04]\n",
            " [2.43560000e+04]\n",
            " [2.43490000e+04]\n",
            " [2.43470000e+04]\n",
            " [2.43580000e+04]\n",
            " [2.44100000e+04]\n",
            " [2.43990000e+04]\n",
            " [2.44100000e+04]\n",
            " [2.44220000e+04]\n",
            " [2.44020000e+04]\n",
            " [2.44000000e+04]\n",
            " [2.43950000e+04]\n",
            " [2.43880000e+04]\n",
            " [2.44130000e+04]\n",
            " [2.44340000e+04]\n",
            " [2.44510000e+04]\n",
            " [2.44420000e+04]\n",
            " [2.44510000e+04]\n",
            " [2.44870000e+04]\n",
            " [2.45190000e+04]\n",
            " [2.45210000e+04]\n",
            " [2.45260000e+04]\n",
            " [2.45030000e+04]\n",
            " [2.44860000e+04]\n",
            " [2.45170000e+04]\n",
            " [2.45430000e+04]\n",
            " [2.45040000e+04]\n",
            " [2.44470000e+04]\n",
            " [2.44390000e+04]\n",
            " [2.44690000e+04]\n",
            " [2.44730000e+04]\n",
            " [2.44920000e+04]\n",
            " [2.44470000e+04]\n",
            " [2.43880000e+04]\n",
            " [2.44050000e+04]\n",
            " [2.44190000e+04]\n",
            " [2.44130000e+04]\n",
            " [2.44010000e+04]\n",
            " [2.44130000e+04]\n",
            " [2.44510000e+04]\n",
            " [2.44280000e+04]\n",
            " [2.44560000e+04]\n",
            " [2.44180000e+04]\n",
            " [2.44220000e+04]\n",
            " [2.44570000e+04]\n",
            " [2.44580000e+04]\n",
            " [2.44640000e+04]\n",
            " [2.44480000e+04]\n",
            " [2.44950000e+04]\n",
            " [2.44950000e+04]\n",
            " [2.44760000e+04]\n",
            " [2.45080000e+04]\n",
            " [2.45410000e+04]\n",
            " [2.46230000e+04]\n",
            " [2.47260000e+04]\n",
            " [2.48720000e+04]\n",
            " [2.49710000e+04]\n",
            " [9.98680000e+04]\n",
            " [9.92810000e+04]\n",
            " [9.89440000e+04]\n",
            " [9.88480000e+04]\n",
            " [9.89680000e+04]\n",
            " [9.87570000e+04]\n",
            " [9.82400000e+04]\n",
            " [9.78620000e+04]\n",
            " [9.80840000e+04]\n",
            " [9.85160000e+04]\n",
            " [9.87000000e+04]\n",
            " [9.85750000e+04]\n",
            " [9.87770000e+04]\n",
            " [9.86480000e+04]\n",
            " [9.87510000e+04]\n",
            " [9.86560000e+04]\n",
            " [9.85180000e+04]\n",
            " [9.85760000e+04]\n",
            " [9.85580000e+04]\n",
            " [9.87070000e+04]\n",
            " [9.88480000e+04]\n",
            " [9.87240000e+04]\n",
            " [9.86660000e+04]\n",
            " [9.87010000e+04]\n",
            " [9.87530000e+04]\n",
            " [9.87950000e+04]\n",
            " [9.78690000e+04]\n",
            " [9.67240000e+04]\n",
            " [9.47740000e+04]\n",
            " [9.26530000e+04]\n",
            " [9.17790000e+04]\n",
            " [9.34170000e+04]\n",
            " [9.45800000e+04]\n",
            " [9.48570000e+04]\n",
            " [9.42750000e+04]\n",
            " [9.39270000e+04]\n",
            " [9.33610000e+04]\n",
            " [9.28830000e+04]\n",
            " [9.28020000e+04]\n",
            " [9.26460000e+04]\n",
            " [9.28720000e+04]\n",
            " [9.28970000e+04]\n",
            " [9.23710000e+04]\n",
            " [9.17060000e+04]\n",
            " [9.15080000e+04]\n",
            " [9.14690000e+04]\n",
            " [9.11720000e+04]\n",
            " [9.11580000e+04]\n",
            " [9.14650000e+04]\n",
            " [9.19410000e+04]\n",
            " [9.19150000e+04]\n",
            " [9.18060000e+04]\n",
            " [9.20680000e+04]\n",
            " [9.29490000e+04]\n",
            " [9.33080000e+04]\n",
            " [9.30180000e+04]\n",
            " [9.38180000e+04]\n",
            " [9.44650000e+04]\n",
            " [9.47770000e+04]\n",
            " [9.51950000e+04]\n",
            " [9.53590000e+04]\n",
            " [9.54020000e+04]\n",
            " [9.55830000e+04]\n",
            " [9.55490000e+04]\n",
            " [9.53860000e+04]\n",
            " [9.49450000e+04]\n",
            " [9.50580000e+04]\n",
            " [9.52380000e+04]\n",
            " [9.51570000e+04]\n",
            " [9.49910000e+04]\n",
            " [9.52240000e+04]\n",
            " [9.62390000e+04]\n",
            " [9.70940000e+04]\n",
            " [9.71380000e+04]\n",
            " [9.75270000e+04]\n",
            " [9.73650000e+04]\n",
            " [9.69040000e+04]\n",
            " [9.66530000e+04]\n",
            " [9.69260000e+04]\n",
            " [9.70450000e+04]\n",
            " [9.75160000e+04]\n",
            " [9.83710000e+04]\n",
            " [9.86090000e+04]\n",
            " [9.86610000e+04]\n",
            " [9.85010000e+04]\n",
            " [9.83600000e+04]\n",
            " [9.82820000e+04]\n",
            " [9.83390000e+04]\n",
            " [9.84920000e+04]\n",
            " [9.85260000e+04]\n",
            " [9.84660000e+04]\n",
            " [9.84600000e+04]\n",
            " [9.84230000e+04]\n",
            " [9.86200000e+04]\n",
            " [9.86420000e+04]\n",
            " [9.85550000e+04]\n",
            " [9.86650000e+04]\n",
            " [9.88850000e+04]\n",
            " [9.90110000e+04]\n",
            " [9.98370000e+04]\n",
            " [1.86238532e+00]]\n"
          ]
        }
      ]
    },
    {
      "cell_type": "code",
      "source": [
        "from sklearn import svm"
      ],
      "metadata": {
        "id": "Sd1wgiuYy5rH"
      },
      "execution_count": null,
      "outputs": []
    },
    {
      "cell_type": "code",
      "source": [
        "x_train = [data[0] for data in training_data]\n",
        "y_train = [data[1] for data in training_data]\n",
        "print(np.asarray(x_train).shape, np.asarray(y_train).shape)"
      ],
      "metadata": {
        "colab": {
          "base_uri": "https://localhost:8080/"
        },
        "id": "Bcb6OoM448hd",
        "outputId": "b5676ae6-1efd-404d-b946-c7f67c0c3ade"
      },
      "execution_count": null,
      "outputs": [
        {
          "output_type": "stream",
          "name": "stdout",
          "text": [
            "(45, 901, 1) (45,)\n"
          ]
        }
      ]
    },
    {
      "cell_type": "code",
      "source": [
        "x_test = [data[0] for data in test_data]\n",
        "y_test = [data[1] for data in test_data]\n",
        "print(np.asarray(x_test).shape, np.asarray(y_test).shape)"
      ],
      "metadata": {
        "colab": {
          "base_uri": "https://localhost:8080/"
        },
        "id": "WDPSX-Mv215H",
        "outputId": "58680e13-acff-407d-e62b-ae95ee8784e3"
      },
      "execution_count": null,
      "outputs": [
        {
          "output_type": "stream",
          "name": "stdout",
          "text": [
            "(55, 901, 1) (55,)\n"
          ]
        }
      ]
    },
    {
      "cell_type": "code",
      "source": [
        "import matplotlib.pyplot as plt\n",
        "from sklearn.metrics import accuracy_score, confusion_matrix, f1_score\n",
        "class SVMModel:\n",
        "    def __init__(self):\n",
        "        self.model = None\n",
        "        self.tested = False\n",
        "        self.train_accuracy = []\n",
        "        self.test_accuracy = []\n",
        "        self.confusion_matrices = []\n",
        "        self.f1_scores = []\n",
        "        self.y_preds = []\n",
        "\n",
        "    def train(self, x_train, y_train, X_test, y_test, epochs=10):\n",
        "        #print(x_train.shape)\n",
        "        for epoch in range(epochs):\n",
        "            self.model = svm.SVC(kernel='linear')\n",
        "\n",
        "            self.model.fit(x_train, y_train)\n",
        "\n",
        "            train_accuracy = self.evaluate(x_train, y_train)[0]\n",
        "            test_accuracy, confusion_matrix, f1_score, y_pred = self.evaluate(X_test, y_test)\n",
        "\n",
        "            self.train_accuracy.append(train_accuracy)\n",
        "            self.test_accuracy.append(test_accuracy)\n",
        "            self.confusion_matrices.append(confusion_matrix)\n",
        "            self.f1_scores.append(f1_score)\n",
        "            self.y_preds.append(y_pred)\n",
        "\n",
        "            print(\"Epoch {}: Train Accuracy: {:.4f}, Test Accuracy: {:.4f}, F1 Score: {:.4f}\".format(epoch, train_accuracy, test_accuracy, f1_score))\n",
        "\n",
        "        self.tested = True\n",
        "\n",
        "    def evaluate(self, X, y):\n",
        "        y_pred = self.model.predict(X)\n",
        "        accuracy = accuracy_score(y, y_pred)\n",
        "        confusion_mat = confusion_matrix(y, y_pred)\n",
        "        f1 = f1_score(y, y_pred, average='weighted')\n",
        "        return accuracy, confusion_mat, f1, y_pred\n",
        "\n",
        "    def plot_accuracy(self):\n",
        "        plt.plot(range(len(self.train_accuracy)), self.train_accuracy, label='Train Accuracy')\n",
        "        plt.plot(range(len(self.test_accuracy)), self.test_accuracy, label='Test Accuracy')\n",
        "        plt.xlabel('Epoch')\n",
        "        plt.ylabel('Accuracy')\n",
        "        plt.title('Accuracy Over Time')\n",
        "        plt.legend()\n",
        "        plt.show()\n",
        "\n",
        "    def plot_f1_score(self):\n",
        "        plt.plot(range(len(self.f1_scores)), self.f1_scores)\n",
        "        plt.xlabel('Epoch')\n",
        "        plt.ylabel('F1 Score')\n",
        "        plt.title('F1 Score Over Time')\n",
        "        plt.show()\n",
        "\n",
        "    def plot_decision_boundary(self,X, y):\n",
        "        print(X.shape)\n",
        "        assert X.shape[1] == 2, \"Plotting is only supported for 2D feature space.\"\n",
        "\n",
        "        # Create a meshgrid to evaluate the score function over the given extent\n",
        "        x_min, x_max = X[:, 0].min() - 1, X[:, 0].max() + 1\n",
        "        y_min, y_max = X[:, 1].min() - 1, X[:, 1].max() + 1\n",
        "        xx, yy = np.meshgrid(np.arange(x_min, x_max, 0.1), np.arange(y_min, y_max, 0.1))\n",
        "        print(xx.shape,yy.shape)\n",
        "        Z = self.model.decision_function(np.c_[xx.ravel(), yy.ravel()])\n",
        "        Z = Z.reshape(xx.shape)\n",
        "\n",
        "        plt.contourf(xx, yy, Z, alpha=0.8)\n",
        "        plt.scatter(X[:, 0], X[:, 1], c=y, edgecolors='k')\n",
        "        plt.xlabel('Feature 1')\n",
        "        plt.ylabel('Feature 2')\n",
        "        plt.title('Decision Boundary and Contour Lines')\n",
        "        plt.show()\n",
        "\n",
        "    def plot_confusion_matrix(self, cm, classes, normalize=False, title='Confusion matrix', cmap=plt.cm.Blues):\n",
        "        if normalize:\n",
        "            cm = cm.astype('float') / cm.sum(axis=1)[:, np.newaxis]\n",
        "\n",
        "        plt.figure(figsize=(8, 6))\n",
        "        plt.imshow(cm, interpolation='nearest', cmap=cmap)\n",
        "        plt.title(title)\n",
        "        plt.colorbar()\n",
        "\n",
        "        tick_marks = np.arange(len(classes))\n",
        "        plt.xticks(tick_marks, classes, rotation=45)\n",
        "        plt.yticks(tick_marks, classes)\n",
        "\n",
        "        fmt = '.2f' if normalize else 'd'\n",
        "        thresh = cm.max() / 2.\n",
        "\n",
        "        for i in range(cm.shape[0]):\n",
        "            for j in range(cm.shape[1]):\n",
        "                plt.text(j, i, format(cm[i, j], fmt),\n",
        "                        ha=\"center\", va=\"center\",\n",
        "                        color=\"white\" if cm[i, j] > thresh else \"black\")\n",
        "\n",
        "        plt.tight_layout()\n",
        "        plt.ylabel('True label')\n",
        "        plt.xlabel('Predicted label')\n",
        "        plt.show()\n",
        "\n",
        "\n",
        "    def plot_roc_curve(self, y_test, y_pred_proba):\n",
        "      fpr, tpr, _ = roc_curve(y_test, y_pred_proba)\n",
        "      roc_auc = auc(fpr, tpr)\n",
        "      plt.figure()\n",
        "      plt.plot(fpr, tpr, color='darkorange', lw=2, label='ROC curve (area = %0.2f)' % roc_auc)\n",
        "      plt.plot([0, 1], [0, 1], color='navy', lw=2, linestyle='--')\n",
        "      plt.xlim([0.0, 1.0])\n",
        "      plt.ylim([0.0, 1.05])\n",
        "      plt.xlabel('False Positive Rate')\n",
        "      plt.ylabel('True Positive Rate')\n",
        "      plt.title('Receiver Operating Characteristic')\n",
        "      plt.legend(loc=\"lower right\")\n",
        "      plt.show()\n",
        "\n",
        "    def plot_learning_curve(self, estimator, X, y, title=\"Learning Curves\"):\n",
        "      train_sizes, train_scores, test_scores = learning_curve(estimator, X, y, cv=5)\n",
        "      train_scores_mean = np.mean(train_scores, axis=1)\n",
        "      test_scores_mean = np.mean(test_scores, axis=1)\n",
        "      plt.plot(train_sizes, train_scores_mean, 'o-', color=\"r\", label=\"Training score\")\n",
        "      plt.plot(train_sizes, test_scores_mean, 'o-', color=\"g\", label=\"Cross-validation score\")\n",
        "      plt.xlabel(\"Training examples\")\n",
        "      plt.ylabel(\"Score\")\n",
        "      plt.legend(loc=\"best\")\n",
        "      plt.grid()\n",
        "      plt.title(title)\n",
        "      plt.show()\n"
      ],
      "metadata": {
        "id": "oxsYUrIDzXA-"
      },
      "execution_count": null,
      "outputs": []
    },
    {
      "cell_type": "code",
      "source": [
        "# Example usage\n",
        "svm_model = SVMModel()\n",
        "x_train = np.array(x_train).reshape(len(x_train), -1)\n",
        "y_train = np.array(y_train).reshape(-1)\n",
        "x_test = np.array(x_test).reshape(len(x_test), -1)\n",
        "y_test = np.array(y_test).reshape(-1)\n",
        "\n",
        "print(x_test.shape,y_test.shape)\n",
        "#print(x_train.shape,y_train.shape)\n",
        "svm_model.train(x_train, y_train, x_test, y_test, epochs=10)\n",
        "\n",
        "# Plot accuracy and F1 score over time\n",
        "svm_model.plot_accuracy()\n",
        "svm_model.plot_f1_score()"
      ],
      "metadata": {
        "colab": {
          "base_uri": "https://localhost:8080/",
          "height": 1000
        },
        "id": "QXuW_07h7S_m",
        "outputId": "1a039bc2-b1cb-4bc3-c19c-3b59eaf5684f"
      },
      "execution_count": null,
      "outputs": [
        {
          "output_type": "stream",
          "name": "stdout",
          "text": [
            "(55, 901) (55,)\n",
            "Epoch 0: Train Accuracy: 1.0000, Test Accuracy: 0.7091, F1 Score: 0.6995\n",
            "Epoch 1: Train Accuracy: 1.0000, Test Accuracy: 0.7091, F1 Score: 0.6995\n",
            "Epoch 2: Train Accuracy: 1.0000, Test Accuracy: 0.7091, F1 Score: 0.6995\n",
            "Epoch 3: Train Accuracy: 1.0000, Test Accuracy: 0.7091, F1 Score: 0.6995\n",
            "Epoch 4: Train Accuracy: 1.0000, Test Accuracy: 0.7091, F1 Score: 0.6995\n",
            "Epoch 5: Train Accuracy: 1.0000, Test Accuracy: 0.7091, F1 Score: 0.6995\n",
            "Epoch 6: Train Accuracy: 1.0000, Test Accuracy: 0.7091, F1 Score: 0.6995\n",
            "Epoch 7: Train Accuracy: 1.0000, Test Accuracy: 0.7091, F1 Score: 0.6995\n",
            "Epoch 8: Train Accuracy: 1.0000, Test Accuracy: 0.7091, F1 Score: 0.6995\n",
            "Epoch 9: Train Accuracy: 1.0000, Test Accuracy: 0.7091, F1 Score: 0.6995\n"
          ]
        },
        {
          "output_type": "display_data",
          "data": {
            "text/plain": [
              "<Figure size 640x480 with 1 Axes>"
            ],
            "image/png": "[encoded data removed]"
          },
          "metadata": {}
        },
        {
          "output_type": "display_data",
          "data": {
            "text/plain": [
              "<Figure size 640x480 with 1 Axes>"
            ],
            "image/png": "[encoded data removed]"
          },
          "metadata": {}
        }
      ]
    },
    {
      "cell_type": "code",
      "source": [
        "print(x_train.ndim)"
      ],
      "metadata": {
        "colab": {
          "base_uri": "https://localhost:8080/"
        },
        "id": "Yl9Pk4nQ_aqR",
        "outputId": "f9166a7a-8a86-4b1e-9291-e90d8474cb52"
      },
      "execution_count": null,
      "outputs": [
        {
          "output_type": "stream",
          "name": "stdout",
          "text": [
            "2\n"
          ]
        }
      ]
    },
    {
      "cell_type": "code",
      "source": [
        "print(x_train.shape)\n",
        "print(y_train.shape)"
      ],
      "metadata": {
        "colab": {
          "base_uri": "https://localhost:8080/"
        },
        "id": "ydVA5gNf_GYH",
        "outputId": "b387f106-fc85-475c-9d49-db6ffa8e4fee"
      },
      "execution_count": null,
      "outputs": [
        {
          "output_type": "stream",
          "name": "stdout",
          "text": [
            "(21, 901)\n",
            "(21,)\n"
          ]
        }
      ]
    },
    {
      "cell_type": "code",
      "source": [
        "print(np.asarray(svm_model.y_preds))"
      ],
      "metadata": {
        "colab": {
          "base_uri": "https://localhost:8080/"
        },
        "id": "pgvHiQpKPo1z",
        "outputId": "9407aba8-8f54-4207-bc3c-991cc2c1360a"
      },
      "execution_count": null,
      "outputs": [
        {
          "output_type": "stream",
          "name": "stdout",
          "text": [
            "[[0 1 1 1 1 1 0 0 1 1 0 1 1 0 0 0 1 1 1 1 0 1 1 1]\n",
            " [0 1 1 1 1 1 0 0 1 1 0 1 1 0 0 0 1 1 1 1 0 1 1 1]\n",
            " [0 1 1 1 1 1 0 0 1 1 0 1 1 0 0 0 1 1 1 1 0 1 1 1]\n",
            " [0 1 1 1 1 1 0 0 1 1 0 1 1 0 0 0 1 1 1 1 0 1 1 1]\n",
            " [0 1 1 1 1 1 0 0 1 1 0 1 1 0 0 0 1 1 1 1 0 1 1 1]\n",
            " [0 1 1 1 1 1 0 0 1 1 0 1 1 0 0 0 1 1 1 1 0 1 1 1]\n",
            " [0 1 1 1 1 1 0 0 1 1 0 1 1 0 0 0 1 1 1 1 0 1 1 1]\n",
            " [0 1 1 1 1 1 0 0 1 1 0 1 1 0 0 0 1 1 1 1 0 1 1 1]\n",
            " [0 1 1 1 1 1 0 0 1 1 0 1 1 0 0 0 1 1 1 1 0 1 1 1]\n",
            " [0 1 1 1 1 1 0 0 1 1 0 1 1 0 0 0 1 1 1 1 0 1 1 1]]\n"
          ]
        }
      ]
    },
    {
      "cell_type": "code",
      "source": [
        "import seaborn as sns\n",
        "\n",
        "# Usage\n",
        "cm = confusion_matrix(y_test, svm_model.y_preds[9])\n",
        "svm_model.plot_confusion_matrix(cm, classes=['Not Genuine', 'Genuine'])"
      ],
      "metadata": {
        "colab": {
          "base_uri": "https://localhost:8080/",
          "height": 626
        },
        "id": "awdLSvgKNmcJ",
        "outputId": "f4f9d402-a220-4233-e409-14cf79fba90c"
      },
      "execution_count": null,
      "outputs": [
        {
          "output_type": "display_data",
          "data": {
            "text/plain": [
              "<Figure size 800x600 with 2 Axes>"
            ],
            "image/png": "[encoded data removed]"
          },
          "metadata": {}
        }
      ]
    },
    {
      "cell_type": "code",
      "source": [
        "from sklearn.metrics import roc_curve, auc\n",
        "\n",
        "# Usage\n",
        "svm_model.plot_roc_curve(y_test, svm_model.y_preds[9])"
      ],
      "metadata": {
        "colab": {
          "base_uri": "https://localhost:8080/",
          "height": 472
        },
        "id": "2trKRvs6Puvi",
        "outputId": "398b6ae4-bb9b-4c70-b9a5-57812ad4c89f"
      },
      "execution_count": null,
      "outputs": [
        {
          "output_type": "display_data",
          "data": {
            "text/plain": [
              "<Figure size 640x480 with 1 Axes>"
            ],
            "image/png": "[encoded data removed]"
          },
          "metadata": {}
        }
      ]
    },
    {
      "cell_type": "code",
      "source": [
        "from sklearn.model_selection import learning_curve\n",
        "\n",
        "# Usage\n",
        "svm_model.plot_learning_curve(svm_model.model, x_train, y_train)"
      ],
      "metadata": {
        "colab": {
          "base_uri": "https://localhost:8080/",
          "height": 472
        },
        "id": "ZT5d_82MRE-5",
        "outputId": "cb81d3a1-5951-48c1-97af-23298747e8d5"
      },
      "execution_count": null,
      "outputs": [
        {
          "output_type": "display_data",
          "data": {
            "text/plain": [
              "<Figure size 640x480 with 1 Axes>"
            ],
            "image/png": "[encoded data removed]"
          },
          "metadata": {}
        }
      ]
    },
    {
      "cell_type": "code",
      "source": [
        "import os\n",
        "from skimage import io, transform\n",
        "import numpy as np\n",
        "\n",
        "data = []\n",
        "labels = []\n",
        "\n",
        "root_dir = \"/content/drive/My Drive/dataset/training\"  # replace with your root directory\n",
        "\n",
        "# Loop over the directories (024, 025, 029)\n",
        "for dir_name in os.listdir(root_dir):\n",
        "    dir_path = os.path.join(root_dir, dir_name)\n",
        "\n",
        "    # Loop over the files in each directory\n",
        "    for file_name in os.listdir(dir_path):\n",
        "        if file_name.endswith(\".png\"):\n",
        "            file_path = os.path.join(dir_path, file_name)\n",
        "            img = io.imread(file_path, as_gray=True)\n",
        "            img = transform.resize(img, (128, 128))\n",
        "            data.append(img)\n",
        "\n",
        "            # Assign labels based on the file name\n",
        "            if \"genuine\" in file_name:\n",
        "                labels.append(1)\n",
        "            elif \"forged\" in file_name:\n",
        "                labels.append(0)\n"
      ],
      "metadata": {
        "id": "WeGbbrCzAis0"
      },
      "execution_count": null,
      "outputs": []
    },
    {
      "cell_type": "code",
      "source": [
        "root_dir = \"/content/drive/My Drive/dataset/test\"\n",
        "\n",
        "# Loop over the directories (024, 025, 029)\n",
        "for dir_name in os.listdir(root_dir):\n",
        "    dir_path = os.path.join(root_dir, dir_name)\n",
        "\n",
        "    # Loop over the files in each directory\n",
        "    for file_name in os.listdir(dir_path):\n",
        "        if file_name.endswith(\".png\"):\n",
        "            file_path = os.path.join(dir_path, file_name)\n",
        "            img = io.imread(file_path, as_gray=True)\n",
        "            img = transform.resize(img, (128, 128))\n",
        "            data.append(img)\n",
        "\n",
        "            # Assign labels based on the file name\n",
        "            if \"genuine\" in file_name:\n",
        "                labels.append(1)\n",
        "            elif \"forged\" in file_name:\n",
        "                labels.append(0)"
      ],
      "metadata": {
        "id": "gm3R2wdgCyBq"
      },
      "execution_count": null,
      "outputs": []
    },
    {
      "cell_type": "code",
      "source": [
        "data = np.array(data)\n",
        "data = data.reshape((data.shape[0], 128, 128, 1))\n",
        "labels = np.array(labels)"
      ],
      "metadata": {
        "id": "Qa2WsQQnC4lt"
      },
      "execution_count": null,
      "outputs": []
    },
    {
      "cell_type": "code",
      "source": [
        "print(data.shape,labels)"
      ],
      "metadata": {
        "colab": {
          "base_uri": "https://localhost:8080/"
        },
        "id": "xDkekWjdCaEV",
        "outputId": "295c9610-4d50-401b-eef7-1ca1fb208fd2"
      },
      "execution_count": null,
      "outputs": [
        {
          "output_type": "stream",
          "name": "stdout",
          "text": [
            "(100, 128, 128, 1) [0 0 1 1 0 1 0 1 0 0 1 0 0 0 0 0 1 1 1 0 1 0 1 0 0 0 0 1 0 1 0 1 1 1 1 1 0\n",
            " 1 0 0 0 1 1 0 1 0 1 0 0 1 0 1 1 1 1 1 0 0 1 0 0 1 1 1 0 0 0 0 1 0 0 0 0 0\n",
            " 0 0 0 0 1 1 0 1 0 0 1 1 0 0 0 0 0 0 1 1 1 1 0 1 1 1]\n"
          ]
        }
      ]
    },
    {
      "cell_type": "code",
      "source": [
        "import re\n",
        "from skimage import io, transform\n",
        "from sklearn.model_selection import train_test_split\n",
        "from tensorflow.keras.models import Sequential\n",
        "from tensorflow.keras.layers import Conv2D, MaxPooling2D, Flatten, Dense, Dropout\n",
        "from tensorflow.keras.optimizers import Adam"
      ],
      "metadata": {
        "id": "IbmlVadqDQM9"
      },
      "execution_count": null,
      "outputs": []
    },
    {
      "cell_type": "code",
      "source": [
        "X_train, X_test, y_train, y_test = train_test_split(data, labels, test_size=0.2, random_state=42)\n",
        "\n",
        "model = Sequential([\n",
        "    Conv2D(32, kernel_size=(3, 3), activation='relu', input_shape=(128, 128, 1)),\n",
        "    MaxPooling2D(pool_size=(2, 2)),\n",
        "    Conv2D(64, kernel_size=(3, 3), activation='relu'),\n",
        "    MaxPooling2D(pool_size=(2, 2)),\n",
        "    Flatten(),\n",
        "    Dense(128, activation='relu'),\n",
        "    Dropout(0.7),\n",
        "    Dense(1, activation='sigmoid')\n",
        "])"
      ],
      "metadata": {
        "id": "hHMA-cyvDLVx"
      },
      "execution_count": null,
      "outputs": []
    },
    {
      "cell_type": "code",
      "source": [
        "# compile the model\n",
        "model.compile(optimizer='adam', loss='binary_crossentropy', metrics=['accuracy'])"
      ],
      "metadata": {
        "id": "X0ZsY5PiDWjZ"
      },
      "execution_count": null,
      "outputs": []
    },
    {
      "cell_type": "code",
      "source": [
        "history = model.fit(X_train, y_train, batch_size=32, epochs=20, validation_data=(X_test, y_test))"
      ],
      "metadata": {
        "colab": {
          "base_uri": "https://localhost:8080/"
        },
        "id": "uf2UFelT9qkA",
        "outputId": "b0a811df-b19e-4940-ef29-d31afdfd321e"
      },
      "execution_count": null,
      "outputs": [
        {
          "output_type": "stream",
          "name": "stdout",
          "text": [
            "Epoch 1/20\n",
            "3/3 [==============================] - 4s 908ms/step - loss: 1.5471 - accuracy: 0.5625 - val_loss: 1.1014 - val_accuracy: 0.6500\n",
            "Epoch 2/20\n",
            "3/3 [==============================] - 2s 547ms/step - loss: 1.5561 - accuracy: 0.4875 - val_loss: 0.8321 - val_accuracy: 0.3500\n",
            "Epoch 3/20\n",
            "3/3 [==============================] - 2s 531ms/step - loss: 1.0276 - accuracy: 0.4500 - val_loss: 0.6718 - val_accuracy: 0.6500\n",
            "Epoch 4/20\n",
            "3/3 [==============================] - 2s 910ms/step - loss: 0.7056 - accuracy: 0.5125 - val_loss: 0.6703 - val_accuracy: 0.6500\n",
            "Epoch 5/20\n",
            "3/3 [==============================] - 3s 879ms/step - loss: 0.7141 - accuracy: 0.5000 - val_loss: 0.6663 - val_accuracy: 0.6500\n",
            "Epoch 6/20\n",
            "3/3 [==============================] - 2s 530ms/step - loss: 0.6873 - accuracy: 0.5500 - val_loss: 0.6540 - val_accuracy: 0.6500\n",
            "Epoch 7/20\n",
            "3/3 [==============================] - 2s 536ms/step - loss: 0.6796 - accuracy: 0.5375 - val_loss: 0.6294 - val_accuracy: 0.6500\n",
            "Epoch 8/20\n",
            "3/3 [==============================] - 2s 536ms/step - loss: 0.6598 - accuracy: 0.5250 - val_loss: 0.6082 - val_accuracy: 0.6500\n",
            "Epoch 9/20\n",
            "3/3 [==============================] - 2s 540ms/step - loss: 0.6122 - accuracy: 0.5250 - val_loss: 0.5509 - val_accuracy: 0.6500\n",
            "Epoch 10/20\n",
            "3/3 [==============================] - 2s 549ms/step - loss: 0.5920 - accuracy: 0.5500 - val_loss: 0.5022 - val_accuracy: 0.6500\n",
            "Epoch 11/20\n",
            "3/3 [==============================] - 2s 502ms/step - loss: 0.5405 - accuracy: 0.6625 - val_loss: 0.4087 - val_accuracy: 0.7500\n",
            "Epoch 12/20\n",
            "3/3 [==============================] - 2s 873ms/step - loss: 0.4448 - accuracy: 0.7500 - val_loss: 0.2816 - val_accuracy: 1.0000\n",
            "Epoch 13/20\n",
            "3/3 [==============================] - 3s 937ms/step - loss: 0.3965 - accuracy: 0.8125 - val_loss: 0.3065 - val_accuracy: 0.9500\n",
            "Epoch 14/20\n",
            "3/3 [==============================] - 2s 511ms/step - loss: 0.4954 - accuracy: 0.7500 - val_loss: 0.2941 - val_accuracy: 0.9500\n",
            "Epoch 15/20\n",
            "3/3 [==============================] - 2s 508ms/step - loss: 0.4361 - accuracy: 0.8000 - val_loss: 0.2645 - val_accuracy: 0.9000\n",
            "Epoch 16/20\n",
            "3/3 [==============================] - 2s 549ms/step - loss: 0.3642 - accuracy: 0.8750 - val_loss: 0.2625 - val_accuracy: 1.0000\n",
            "Epoch 17/20\n",
            "3/3 [==============================] - 2s 512ms/step - loss: 0.3538 - accuracy: 0.8750 - val_loss: 0.2112 - val_accuracy: 1.0000\n",
            "Epoch 18/20\n",
            "3/3 [==============================] - 2s 511ms/step - loss: 0.2900 - accuracy: 0.9125 - val_loss: 0.1527 - val_accuracy: 1.0000\n",
            "Epoch 19/20\n",
            "3/3 [==============================] - 2s 547ms/step - loss: 0.2902 - accuracy: 0.8750 - val_loss: 0.1163 - val_accuracy: 0.9500\n",
            "Epoch 20/20\n",
            "3/3 [==============================] - 3s 904ms/step - loss: 0.2167 - accuracy: 0.9500 - val_loss: 0.0991 - val_accuracy: 0.9500\n"
          ]
        }
      ]
    },
    {
      "cell_type": "code",
      "source": [
        "# plot learning curve\n",
        "def plot_learning_curve(history):\n",
        "    plt.plot(history.history['accuracy'])\n",
        "    plt.plot(history.history['val_accuracy'])\n",
        "    plt.title('Model accuracy')\n",
        "    plt.ylabel('Accuracy')\n",
        "    plt.xlabel('Epoch')\n",
        "    plt.legend(['Train', 'Test'], loc='upper left')\n",
        "    plt.show()\n",
        "\n",
        "plot_learning_curve(history)"
      ],
      "metadata": {
        "colab": {
          "base_uri": "https://localhost:8080/",
          "height": 472
        },
        "id": "UwBjDA8cDYZl",
        "outputId": "fb552348-e78e-466c-a3ba-ac3f7e9e5c89"
      },
      "execution_count": null,
      "outputs": [
        {
          "output_type": "display_data",
          "data": {
            "text/plain": [
              "<Figure size 640x480 with 1 Axes>"
            ],
            "image/png": "[encoded data removed]"
          },
          "metadata": {}
        }
      ]
    },
    {
      "cell_type": "code",
      "source": [
        "def evaluate_model_accuracy(model, X_test, y_test):\n",
        "    test_loss, test_accuracy = model.evaluate(X_test, y_test)\n",
        "    print(\"Test accuracy:\", test_accuracy)\n",
        "\n",
        "evaluate_model_accuracy(model, X_test, y_test)"
      ],
      "metadata": {
        "colab": {
          "base_uri": "https://localhost:8080/"
        },
        "id": "GX6AX4-oEiU3",
        "outputId": "c4ef2dbd-be01-4056-e17e-6199247052af"
      },
      "execution_count": null,
      "outputs": [
        {
          "output_type": "stream",
          "name": "stdout",
          "text": [
            "1/1 [==============================] - 0s 122ms/step - loss: 0.0991 - accuracy: 0.9500\n",
            "Test accuracy: 0.949999988079071\n"
          ]
        }
      ]
    },
    {
      "cell_type": "code",
      "source": [
        "from sklearn.metrics import confusion_matrix\n",
        "import seaborn as sns\n",
        "import matplotlib.pyplot as plt\n",
        "import numpy as np\n",
        "\n",
        "# Make predictions on the test data\n",
        "y_pred_prob = model.predict(X_test)\n",
        "y_pred = np.round(y_pred_prob).astype(int)\n",
        "\n",
        "# Compute confusion matrix\n",
        "conf_matrix = confusion_matrix(y_test, y_pred)\n",
        "\n",
        "# Plot confusion matrix as heatmap\n",
        "plt.figure(figsize=(8, 6))\n",
        "sns.heatmap(conf_matrix, annot=True, fmt=\".2f\", cmap=\"YlGnBu\", xticklabels=['Not Genuine', 'Genuine'], yticklabels=['Not Genuine', 'Genuine'], cbar=True)\n",
        "\n",
        "plt.title('Confusion Matrix')\n",
        "plt.xlabel('Predicted label')\n",
        "plt.ylabel('True label')\n",
        "plt.show()"
      ],
      "metadata": {
        "colab": {
          "base_uri": "https://localhost:8080/",
          "height": 581
        },
        "id": "oVmB8iC2EUmD",
        "outputId": "6f896bae-c72a-42b3-a99d-aeb8b60aff80"
      },
      "execution_count": null,
      "outputs": [
        {
          "output_type": "stream",
          "name": "stdout",
          "text": [
            "1/1 [==============================] - 0s 205ms/step\n"
          ]
        },
        {
          "output_type": "display_data",
          "data": {
            "text/plain": [
              "<Figure size 800x600 with 2 Axes>"
            ],
            "image/png": "[encoded data removed]"
          },
          "metadata": {}
        }
      ]
    },
    {
      "cell_type": "code",
      "source": [
        "# Compute ROC Curve\n",
        "fpr, tpr, _ = roc_curve(y_test, y_pred)\n",
        "roc_auc = auc(fpr, tpr)\n",
        "\n",
        "# Plot ROC Curve\n",
        "plt.figure()\n",
        "plt.plot(fpr, tpr, color='darkorange', lw=2, label='ROC curve (area = %0.2f)' % roc_auc)\n",
        "plt.plot([0, 1], [0, 1], color='navy', lw=2, linestyle='--')\n",
        "plt.xlim([0.0, 1.0])\n",
        "plt.ylim([0.0, 1.05])\n",
        "plt.xlabel('False Positive Rate')\n",
        "plt.ylabel('True Positive Rate')\n",
        "plt.title('Receiver Operating Characteristic (ROC)')\n",
        "plt.legend(loc=\"lower right\")\n",
        "plt.show()"
      ],
      "metadata": {
        "colab": {
          "base_uri": "https://localhost:8080/",
          "height": 472
        },
        "id": "t--N1pq7HloY",
        "outputId": "074993b3-b833-4edd-dc3c-8ed9715203c1"
      },
      "execution_count": null,
      "outputs": [
        {
          "output_type": "display_data",
          "data": {
            "text/plain": [
              "<Figure size 640x480 with 1 Axes>"
            ],
            "image/png": "[encoded data removed]"
          },
          "metadata": {}
        }
      ]
    }
  ]
}